{
 "cells": [
  {
   "cell_type": "code",
   "execution_count": 1,
   "metadata": {},
   "outputs": [
    {
     "data": {
      "text/html": [
       "<div>\n",
       "<style scoped>\n",
       "    .dataframe tbody tr th:only-of-type {\n",
       "        vertical-align: middle;\n",
       "    }\n",
       "\n",
       "    .dataframe tbody tr th {\n",
       "        vertical-align: top;\n",
       "    }\n",
       "\n",
       "    .dataframe thead th {\n",
       "        text-align: right;\n",
       "    }\n",
       "</style>\n",
       "<table border=\"1\" class=\"dataframe\">\n",
       "  <thead>\n",
       "    <tr style=\"text-align: right;\">\n",
       "      <th></th>\n",
       "      <th>Week</th>\n",
       "      <th>Team#</th>\n",
       "      <th>Match1</th>\n",
       "      <th>Match2</th>\n",
       "      <th>Match3</th>\n",
       "    </tr>\n",
       "  </thead>\n",
       "  <tbody>\n",
       "    <tr>\n",
       "      <th>0</th>\n",
       "      <td>1</td>\n",
       "      <td>1</td>\n",
       "      <td>49&amp;50</td>\n",
       "      <td>9&amp;10</td>\n",
       "      <td>27&amp;28</td>\n",
       "    </tr>\n",
       "    <tr>\n",
       "      <th>1</th>\n",
       "      <td>1</td>\n",
       "      <td>2</td>\n",
       "      <td>7&amp;8</td>\n",
       "      <td>11&amp;12</td>\n",
       "      <td>13&amp;14</td>\n",
       "    </tr>\n",
       "    <tr>\n",
       "      <th>2</th>\n",
       "      <td>1</td>\n",
       "      <td>3</td>\n",
       "      <td>49&amp;50</td>\n",
       "      <td>5&amp;6</td>\n",
       "      <td>T1&amp;T2</td>\n",
       "    </tr>\n",
       "    <tr>\n",
       "      <th>3</th>\n",
       "      <td>1</td>\n",
       "      <td>4</td>\n",
       "      <td>11&amp;12</td>\n",
       "      <td>23&amp;24</td>\n",
       "      <td>5&amp;6</td>\n",
       "    </tr>\n",
       "    <tr>\n",
       "      <th>4</th>\n",
       "      <td>1</td>\n",
       "      <td>5</td>\n",
       "      <td>25&amp;26</td>\n",
       "      <td>T5&amp;T6</td>\n",
       "      <td>15&amp;16</td>\n",
       "    </tr>\n",
       "  </tbody>\n",
       "</table>\n",
       "</div>"
      ],
      "text/plain": [
       "   Week  Team#   Match1   Match2    Match3\n",
       "0     1      1   49&50     9&10    27&28  \n",
       "1     1      2     7&8    11&12    13&14  \n",
       "2     1      3   49&50      5&6    T1&T2  \n",
       "3     1      4   11&12    23&24      5&6  \n",
       "4     1      5   25&26    T5&T6    15&16  "
      ]
     },
     "execution_count": 1,
     "metadata": {},
     "output_type": "execute_result"
    }
   ],
   "source": [
    "import pandas as pd\n",
    "\n",
    "df = pd.read_csv(\"games_formatted_mon_2.csv\")\n",
    "\n",
    "[20, 26, 32, 4, 31, 42, 15, 29, 40, 11, 17, 24, 23, 37, 41, 14, 16, 30, 9, 18, 40]\n",
    "\n",
    "\n",
    "\n",
    "df.head()"
   ]
  },
  {
   "cell_type": "code",
   "execution_count": 2,
   "metadata": {
    "scrolled": false
   },
   "outputs": [],
   "source": [
    "#df.drop(['Week','Team#'], axis=1).groupby(['Match1','Match2','Match3']).agg('count')\n",
    "\n",
    "vs = {}\n",
    "\n",
    "for row in df.iterrows():\n",
    "    r = row[1]\n",
    "    for row1 in df.iterrows():\n",
    "        \n",
    "        r1 = row1[1]\n",
    "        if r.Week == r1.Week and (r.Match1 == r1.Match1 or r.Match2 == r1.Match2 or r.Match3 == r1.Match3):\n",
    "            if r['Team#'] != r1['Team#']:\n",
    "#                 print(f\"WK{r.Week} A{r['Team#']} B{r1['Team#']}\")\n",
    "                if r['Team#'] in vs:\n",
    "                     vs[r['Team#']].append(r1['Team#'])\n",
    "                else:\n",
    "                    vs[r['Team#']] = [r1['Team#']]\n",
    "                \n",
    "                "
   ]
  },
  {
   "cell_type": "code",
   "execution_count": 3,
   "metadata": {
    "scrolled": false
   },
   "outputs": [
    {
     "name": "stdout",
     "output_type": "stream",
     "text": [
      "1 21 [3, 15, 17, 28, 30, 39, 16, 20, 42, 14, 27, 37, 6, 24, 44, 9, 12, 38, 19, 25, 31]\n",
      "FAIL\n"
     ]
    }
   ],
   "source": [
    "for v in vs:\n",
    "    if len(set( vs[v])) != 21:\n",
    "        print(\"FAIL\")\n",
    "        break\n",
    "    print(v, len(set( vs[v]))  , vs[v]   )"
   ]
  }
 ],
 "metadata": {
  "kernelspec": {
   "display_name": "Python 3",
   "language": "python",
   "name": "python3"
  },
  "language_info": {
   "codemirror_mode": {
    "name": "ipython",
    "version": 3
   },
   "file_extension": ".py",
   "mimetype": "text/x-python",
   "name": "python",
   "nbconvert_exporter": "python",
   "pygments_lexer": "ipython3",
   "version": "3.6.5"
  }
 },
 "nbformat": 4,
 "nbformat_minor": 2
}
